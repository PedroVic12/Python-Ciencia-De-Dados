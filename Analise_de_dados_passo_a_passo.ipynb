{
 "cells": [
  {
   "cell_type": "markdown",
   "metadata": {},
   "source": [
    "***\n",
    "# Controle de qualidade\n",
    "***"
   ]
  },
  {
   "cell_type": "markdown",
   "metadata": {},
   "source": [
    "## 1) Ferramentas estatísticas para conhecimento e análise da variabilidade de um processo \n",
    "\n",
    "    Quais são as sete ferramentas? \n",
    "    • — Estratificação \n",
    "    • — Folha de Verificação \n",
    "    • — Diagrama de dispersão \n",
    "    • — Gráficos de Pareto \n",
    "    • — Diagrama de Causa e Efeito \n",
    "    • — Histograma \n",
    "    • — Gráficos de Controle \n"
   ]
  },
  {
   "cell_type": "markdown",
   "metadata": {},
   "source": [
    "## <font color = green> 2) Coleta de dados: </font>\n",
    " Buscar dados através de uma metodologia para fornecer bases factuais para uma tomada de decisão"
   ]
  },
  {
   "cell_type": "markdown",
   "metadata": {},
   "source": [
    " Etapas: \n",
    " - Defina o Objetivo \n",
    " - O que será coletado \n",
    " - Qual a quantidade / tamanho \n",
    " - Onde será feito a coleta \n",
    " - Como será feita a coleta \n",
    " - Elabora a Folha de Verificação ou Folha de Controle \n",
    " - Quando será coletado \n",
    " - Quem deverá realizar a coleta \n",
    " - Preenche a Folha \n",
    " - Implementar o planejado\n"
   ]
  },
  {
   "cell_type": "markdown",
   "metadata": {},
   "source": [
    "##  <font color = green>3) Estratificação </font>"
   ]
  },
  {
   "cell_type": "markdown",
   "metadata": {},
   "source": [
    "Divisão de um grupo em diversos subgrupos com base em fatores apropriados (FATORES DE ESTRATIFICAÇÃO) \n",
    "\n",
    "    • TEMPO: hora, dia da semana, dia do mês, mês, turno,horários diurnos e noturnos. \n",
    "\n",
    "    • LOCAL: linhas de produção da indústria, regiões onde o produto é comercializado. \n",
    "\n",
    "    • TIPO: tipos de fornecedores, tipos de produtos \n",
    "    • SINTONIA: tipos de defeitos. \n",
    "\n",
    "    • INDIVÍDUO: diferentes operadores. "
   ]
  },
  {
   "cell_type": "markdown",
   "metadata": {},
   "source": [
    "#### <font color = red> → VANTAGENS  </font>\n",
    "\n",
    "- Facilitar a verificação de diferenças na qualidade do produto por fatores como operadores, máquinas, matérias primas... \n",
    "\n",
    "- Facilitar a tomada de decisão: troca fornecedor, \n",
    "treinamento.. \n"
   ]
  },
  {
   "cell_type": "markdown",
   "metadata": {},
   "source": [
    "## <font color = green> 4) Folha de Verificação (Check-list) </font>"
   ]
  },
  {
   "cell_type": "markdown",
   "metadata": {},
   "source": [
    " #### `Forma de coletar e registrar os dados. `\n",
    "\n",
    "• Alguns tipos de Folha de Verificação: \n",
    "\n",
    "• Folha de Verificação Para Distribuição de um Item de Controle de um Processo Produtivo \n",
    "\n",
    "• Folha de Verificação para Classificação \n",
    "\n",
    "• Folha de Verificação para Localização de \n",
    "Defeitos \n",
    "\n",
    "• Folha de Verificação para Identificação de Causas e Efeitos "
   ]
  },
  {
   "cell_type": "markdown",
   "metadata": {},
   "source": [
    "#### ` → Elaboração` \n",
    "• Determinar o tipo de folha / modelo a ser utilizado. \n",
    "\n",
    "• Verificar se na proposta estão identificados departamento, pessoa responsável pela coleta, data, instrumentos,produtos (QUEM) \n",
    "\n",
    "• Treinar as pessoas envolvida no processo de obtenção de dados, conscientizando-as a importância deste trabalho (PORQUE)\n",
    "\n",
    "• Informar as pessoas a respeito da frequência e do método que será utilizado para realizar as medidas (O QUE/ONDE/QUANDO E COMO)\n",
    "\n",
    "• Executar um pré-teste. \n"
   ]
  },
  {
   "cell_type": "markdown",
   "metadata": {},
   "source": [
    "### **Plano de ação**\n",
    "\n",
    "    O QUE → DEVE SER FEITO\n",
    "    \n",
    "    QUEM → Sao os responsáveis pela execução\n",
    "\n",
    "    ONDE → Setor/Local em que deve ser executado\n",
    "\n",
    "    QUANDO → Ocasião em que deve ser executado\n",
    "    POR QUE → Deve ser executado\n",
    "    \n",
    "    COMO → De que maneira deve ser executado\n",
    "    QUANTO → Custa para executar\n"
   ]
  },
  {
   "cell_type": "markdown",
   "metadata": {},
   "source": [
    "## <font color = green> 5) Diagrama de Dispersão \n",
    "\n",
    "Matplotlib: https://matplotlib.org/stable/gallery/index"
   ]
  },
  {
   "cell_type": "markdown",
   "metadata": {},
   "source": [
    "• É uma ferramenta estatística utilizada para o estudo de algumas das relações existentes entre duas variáveis associadas a um processo. \n",
    "\n",
    "• As duas variáveis apresentadas em um diagrama de dispersão podem ser:\n",
    "\n",
    "    • Duas causas de um processo \n",
    "    • Um causa e um efeito de um processo \n",
    "    • Dois efeitos de um processo. "
   ]
  },
  {
   "cell_type": "markdown",
   "metadata": {},
   "source": [
    "<img src =\"assets/diagrama_dispercao.png\">"
   ]
  },
  {
   "cell_type": "code",
   "execution_count": 1,
   "metadata": {},
   "outputs": [],
   "source": [
    "import numpy as np\n",
    "import matplotlib.pyplot as plt"
   ]
  },
  {
   "cell_type": "markdown",
   "metadata": {},
   "source": [
    "Coordenadas de X:"
   ]
  },
  {
   "cell_type": "code",
   "execution_count": 59,
   "metadata": {},
   "outputs": [],
   "source": [
    "x = np.arange(0,125,5)"
   ]
  },
  {
   "cell_type": "markdown",
   "metadata": {},
   "source": [
    "Coordenadas de Y:"
   ]
  },
  {
   "cell_type": "code",
   "execution_count": 60,
   "metadata": {},
   "outputs": [
    {
     "data": {
      "text/plain": [
       "array([0.84688502, 0.45502526, 0.90135619, 0.50070969, 0.49018019,\n",
       "       0.20512794, 0.1293333 , 0.41048398, 0.97672699, 0.50631726,\n",
       "       0.1805897 , 0.63029521, 0.50014118, 0.62226972, 0.77559049,\n",
       "       0.6047672 , 0.19339794, 0.23293031, 0.2018546 , 0.03728107,\n",
       "       0.41013077, 0.70987796, 0.02478931, 0.48660444, 0.97716511])"
      ]
     },
     "execution_count": 60,
     "metadata": {},
     "output_type": "execute_result"
    }
   ],
   "source": [
    "y = np.random.random(len(x))\n",
    "y"
   ]
  },
  {
   "cell_type": "markdown",
   "metadata": {},
   "source": [
    "    Gerando o gráfico"
   ]
  },
  {
   "cell_type": "code",
   "execution_count": 84,
   "metadata": {},
   "outputs": [
    {
     "data": {
      "image/png": "[encoded data removed]",
      "text/plain": [
       "<Figure size 576x360 with 1 Axes>"
      ]
     },
     "metadata": {},
     "output_type": "display_data"
    }
   ],
   "source": [
    "plt.figure(figsize=(8,5))\n",
    "plt.scatter(x,y, color = \"red\",marker ='x', s = 50, label = \"Serie1\")\n",
    "\n",
    "plt.scatter(x, y2, color=\"white\", marker='s', s=60, label=\"Serie2\")\n",
    "\n",
    "plt.xlabel('EIXO X\\n', fontsize = 16)\n",
    "plt.ylabel('EIXO Y\\n', fontsize=16)\n",
    "plt.title('GRÁFICO DE DISPERSÃO SEM CORRELAÇÃO\\n', fontsize=24, color = 'yellow')\n",
    "\n",
    "plt.xlim([0,125])\n",
    "plt.ylim([-1.5, 1.5])\n",
    "plt.legend(ncol=2, loc=9,shadow=True)\n",
    "\n",
    "# plt.rcParams.update(({'font.size': 16}))\n",
    "plt.show()\n",
    "\n"
   ]
  },
  {
   "cell_type": "markdown",
   "metadata": {},
   "source": [
    "### Observações: \n",
    "1) Correlação e Causalidade: \n",
    " \n",
    "     Podem existir outras variáveis que fazem com que X e Y variem no mesmo sentido ou em sentidos contrario,embora X e Y possam não ser correlacionadas.\n",
    "\n",
    "     - Estas Variáveis = Intercorrentes (não conhecidas)\n",
    "     - Falsa Correlação = Correlação Espúria  \n",
    "<br>\n",
    "2) Presença de Pontos Discrepantes\n",
    "\n",
    "- Devem ser analisados separadamente ou eliminados do conjunto de dados.\n",
    "\n",
    "<br>\n",
    "3) O intervalo de variação das variáveis deve ser maior que a faixa usual dos processos.\n",
    "<br>\n",
    "<br>\n",
    "4) A estratificação de um diagrama de dispersão permite a descoberta da causa de um problema"
   ]
  },
  {
   "cell_type": "markdown",
   "metadata": {},
   "source": [
    "## <font color=green> 6) Gráfico de Pareto </font>"
   ]
  },
  {
   "cell_type": "markdown",
   "metadata": {},
   "source": [
    "## <font color=green> 7) Diagrama Causa e efeito </font>"
   ]
  },
  {
   "cell_type": "markdown",
   "metadata": {},
   "source": [
    "## <font color=green> 8) Histograma </font>"
   ]
  },
  {
   "cell_type": "markdown",
   "metadata": {},
   "source": [
    "## <font color=green> 9) Gráfico de controle </font>"
   ]
  }
 ],
 "metadata": {
  "interpreter": {
   "hash": "74ab7c6ffe6706754a8af46cc4d18eebe476c74ce21a19282f620e1b1e9919fe"
  },
  "kernelspec": {
   "display_name": "Python 3.9.7 64-bit ('base': conda)",
   "language": "python",
   "name": "python3"
  },
  "language_info": {
   "codemirror_mode": {
    "name": "ipython",
    "version": 3
   },
   "file_extension": ".py",
   "mimetype": "text/x-python",
   "name": "python",
   "nbconvert_exporter": "python",
   "pygments_lexer": "ipython3",
   "version": "3.9.7"
  },
  "orig_nbformat": 4
 },
 "nbformat": 4,
 "nbformat_minor": 2
}
